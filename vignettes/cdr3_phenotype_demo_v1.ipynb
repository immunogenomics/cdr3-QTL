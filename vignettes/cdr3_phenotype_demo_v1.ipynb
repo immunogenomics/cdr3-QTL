{
 "cells": [
  {
   "cell_type": "markdown",
   "id": "177a2759-18a0-43f0-a8a6-c89abf2fe5c2",
   "metadata": {},
   "source": [
    "# Preparation of CDR3 amino acid phenotypes"
   ]
  },
  {
   "cell_type": "markdown",
   "id": "2832259f-8a75-4fd6-adb3-438070edaa01",
   "metadata": {},
   "source": [
    "In this tutorial, I will explain how we created CDR3 amino acid (AA) phenotypes in our manuscript (**Ishigaki et al. Nature Genetics 2022**; **\"CDR3 phenotype 2\"** in the following script). \n",
    "In the actual analysis, the work is done using an AWK script. However, to make our strategy more transparent, I here provided the R code.\n",
    "<br>\n",
    "The CDR3 AA phenotypes in this tutorial is a **20-dimensional vector** derived from one sample: each AA has its frequency information (the sum of all frequencies is 1). This 20-dimensional vector is the response variable in the multivariate multiple linear regression (MMLM) in our manuscript (**right panel** in the below figure). Each component of this vector (frequency data of one specific amino acid) is the response variable in the linear model (LM) in our manuscript (**left panel** in the below figure).\n",
    "<br>\n",
    "Also, I will introduce alternative ways of preparing CDR3 AA phenotypes, which may be useful for projects with a limited number of CDR3 sequences including single cell data. "
   ]
  },
  {
   "cell_type": "markdown",
   "id": "fdd10f64-b34d-4865-9120-d36414a855ad",
   "metadata": {},
   "source": [
    "<img src=\"./image1.png\" width=\"600\">"
   ]
  },
  {
   "cell_type": "markdown",
   "id": "e4354e40-0c97-42cc-8026-fb26490a1eaa",
   "metadata": {},
   "source": [
    "## Prepare data to analyze"
   ]
  },
  {
   "cell_type": "code",
   "execution_count": 1,
   "id": "8fd6e401-bd3c-455b-b2b0-dfd373064b6d",
   "metadata": {},
   "outputs": [
    {
     "data": {
      "text/html": [
       "<ol class=list-inline>\n",
       "\t<li>'TCRBV01-01'</li>\n",
       "\t<li>'TCRBV02-01'</li>\n",
       "</ol>\n"
      ],
      "text/latex": [
       "\\begin{enumerate*}\n",
       "\\item 'TCRBV01-01'\n",
       "\\item 'TCRBV02-01'\n",
       "\\end{enumerate*}\n"
      ],
      "text/markdown": [
       "1. 'TCRBV01-01'\n",
       "2. 'TCRBV02-01'\n",
       "\n",
       "\n"
      ],
      "text/plain": [
       "[1] \"TCRBV01-01\" \"TCRBV02-01\""
      ]
     },
     "metadata": {},
     "output_type": "display_data"
    },
    {
     "data": {
      "text/html": [
       "60"
      ],
      "text/latex": [
       "60"
      ],
      "text/markdown": [
       "60"
      ],
      "text/plain": [
       "[1] 60"
      ]
     },
     "metadata": {},
     "output_type": "display_data"
    }
   ],
   "source": [
    "#V genes used in this analysis\n",
    "keep_vgene <- as.character(read.table(\"../data/tcr_phenotype/demo/V_all.txt\")[,1])\n",
    "head(keep_vgene,n=2)\n",
    "length(keep_vgene)"
   ]
  },
  {
   "cell_type": "code",
   "execution_count": 2,
   "id": "0c9e9d4d-0f08-4055-a084-2d6f370ab6f4",
   "metadata": {},
   "outputs": [
    {
     "data": {
      "text/html": [
       "<ol class=list-inline>\n",
       "\t<li>'TCRBJ01-01'</li>\n",
       "\t<li>'TCRBJ01-02'</li>\n",
       "</ol>\n"
      ],
      "text/latex": [
       "\\begin{enumerate*}\n",
       "\\item 'TCRBJ01-01'\n",
       "\\item 'TCRBJ01-02'\n",
       "\\end{enumerate*}\n"
      ],
      "text/markdown": [
       "1. 'TCRBJ01-01'\n",
       "2. 'TCRBJ01-02'\n",
       "\n",
       "\n"
      ],
      "text/plain": [
       "[1] \"TCRBJ01-01\" \"TCRBJ01-02\""
      ]
     },
     "metadata": {},
     "output_type": "display_data"
    },
    {
     "data": {
      "text/html": [
       "13"
      ],
      "text/latex": [
       "13"
      ],
      "text/markdown": [
       "13"
      ],
      "text/plain": [
       "[1] 13"
      ]
     },
     "metadata": {},
     "output_type": "display_data"
    }
   ],
   "source": [
    "#J genes used in this analysis\n",
    "keep_jgene <- as.character(read.table(\"../data/tcr_phenotype/demo/J_all.txt\")[,1])\n",
    "head(keep_jgene,n=2)\n",
    "length(keep_jgene)"
   ]
  },
  {
   "cell_type": "raw",
   "id": "a4bad5cd-2be9-40a9-a55b-af51396479f0",
   "metadata": {},
   "source": [
    "Please note that we will use V and J gene names in this format."
   ]
  },
  {
   "cell_type": "code",
   "execution_count": 4,
   "id": "3649be3f-4b26-462a-801f-fe70d17d5ff9",
   "metadata": {},
   "outputs": [
    {
     "data": {
      "text/html": [
       "<table>\n",
       "<thead><tr><th scope=col>CDR3</th><th scope=col>Vgene</th><th scope=col>Jgene</th><th scope=col>Length</th></tr></thead>\n",
       "<tbody>\n",
       "\t<tr><td>CSVEESYEQYF      </td><td>TCRBV29-01       </td><td>TCRBJ02-07       </td><td>11               </td></tr>\n",
       "\t<tr><td>CATTGTSGGPSQSTQYF</td><td>TCRBV10-03       </td><td>TCRBJ02-03       </td><td>17               </td></tr>\n",
       "\t<tr><td>CASSLRVGGYGYTF   </td><td>TCRBV07-09       </td><td>TCRBJ01-02       </td><td>14               </td></tr>\n",
       "</tbody>\n",
       "</table>\n"
      ],
      "text/latex": [
       "\\begin{tabular}{r|llll}\n",
       " CDR3 & Vgene & Jgene & Length\\\\\n",
       "\\hline\n",
       "\t CSVEESYEQYF       & TCRBV29-01        & TCRBJ02-07        & 11               \\\\\n",
       "\t CATTGTSGGPSQSTQYF & TCRBV10-03        & TCRBJ02-03        & 17               \\\\\n",
       "\t CASSLRVGGYGYTF    & TCRBV07-09        & TCRBJ01-02        & 14               \\\\\n",
       "\\end{tabular}\n"
      ],
      "text/markdown": [
       "\n",
       "CDR3 | Vgene | Jgene | Length | \n",
       "|---|---|---|\n",
       "| CSVEESYEQYF       | TCRBV29-01        | TCRBJ02-07        | 11                | \n",
       "| CATTGTSGGPSQSTQYF | TCRBV10-03        | TCRBJ02-03        | 17                | \n",
       "| CASSLRVGGYGYTF    | TCRBV07-09        | TCRBJ01-02        | 14                | \n",
       "\n",
       "\n"
      ],
      "text/plain": [
       "  CDR3              Vgene      Jgene      Length\n",
       "1 CSVEESYEQYF       TCRBV29-01 TCRBJ02-07 11    \n",
       "2 CATTGTSGGPSQSTQYF TCRBV10-03 TCRBJ02-03 17    \n",
       "3 CASSLRVGGYGYTF    TCRBV07-09 TCRBJ01-02 14    "
      ]
     },
     "metadata": {},
     "output_type": "display_data"
    }
   ],
   "source": [
    "#An example TCR-CDR3 data\n",
    "tdata <- read.table(\"../data/tcr_phenotype/demo/test_data.txt.gz\",\n",
    "                    header=T,colClasses=\"character\")\n",
    "tdata$Length <- nchar(tdata$CDR3)\n",
    "head(tdata,n=3)\n",
    "#1st column: CDR3 amino acid (AA) sequences starting from C and ending with F\n",
    "#2nd column: V gene\n",
    "#3rd column: J gene\n",
    "#4th column: length of CDR3 amino acids"
   ]
  },
  {
   "cell_type": "code",
   "execution_count": 9,
   "id": "6ecf32b1-702f-4556-ae4b-c26686399d1c",
   "metadata": {},
   "outputs": [
    {
     "data": {
      "image/png": "[encoded data removed]",
      "text/plain": [
       "Plot with title “Distribution of CDR3 AA length”"
      ]
     },
     "metadata": {},
     "output_type": "display_data",
     "source": "R display func"
    }
   ],
   "source": [
    "#CDR3 has variable length\n",
    "options(repr.plot.width=3.5, repr.plot.height=3.5)\n",
    "hist(tdata$Length,breaks=20,main=\"Distribution of CDR3 AA length\",col=\"magenta3\")"
   ]
  },
  {
   "cell_type": "code",
   "execution_count": null,
   "id": "23c57dd0-7062-4c58-85a2-02235cd9326c",
   "metadata": {},
   "outputs": [],
   "source": []
  },
  {
   "cell_type": "markdown",
   "id": "4de61fae-0495-41f1-b0e5-f36c1951b218",
   "metadata": {},
   "source": [
    "## QC of TCR data"
   ]
  },
  {
   "cell_type": "code",
   "execution_count": 10,
   "id": "70540b2d-7cf1-471b-87b6-1bcf640a50d9",
   "metadata": {},
   "outputs": [
    {
     "data": {
      "text/html": [
       "83689"
      ],
      "text/latex": [
       "83689"
      ],
      "text/markdown": [
       "83689"
      ],
      "text/plain": [
       "[1] 83689"
      ]
     },
     "metadata": {},
     "output_type": "display_data"
    },
    {
     "data": {
      "text/html": [
       "78472"
      ],
      "text/latex": [
       "78472"
      ],
      "text/markdown": [
       "78472"
      ],
      "text/plain": [
       "[1] 78472"
      ]
     },
     "metadata": {},
     "output_type": "display_data"
    }
   ],
   "source": [
    "#QC1, CDR3 length 12-18\n",
    "nrow(tdata)\n",
    "tdata <- subset(tdata, Length >= 12 & Length <=18)\n",
    "nrow(tdata)"
   ]
  },
  {
   "cell_type": "code",
   "execution_count": 11,
   "id": "621f8b38-cb7b-426e-abcf-7c7091441e4e",
   "metadata": {},
   "outputs": [
    {
     "data": {
      "text/html": [
       "78472"
      ],
      "text/latex": [
       "78472"
      ],
      "text/markdown": [
       "78472"
      ],
      "text/plain": [
       "[1] 78472"
      ]
     },
     "metadata": {},
     "output_type": "display_data"
    },
    {
     "data": {
      "text/html": [
       "78439"
      ],
      "text/latex": [
       "78439"
      ],
      "text/markdown": [
       "78439"
      ],
      "text/plain": [
       "[1] 78439"
      ]
     },
     "metadata": {},
     "output_type": "display_data"
    }
   ],
   "source": [
    "#QC2, V gene with positional AA information\n",
    "nrow(tdata)\n",
    "tdata <- tdata[ tdata$Vgene %in% keep_vgene,  ]\n",
    "nrow(tdata)"
   ]
  },
  {
   "cell_type": "code",
   "execution_count": 12,
   "id": "e8724735-64a1-48a2-8606-06ab618d8b7a",
   "metadata": {},
   "outputs": [
    {
     "data": {
      "text/html": [
       "78439"
      ],
      "text/latex": [
       "78439"
      ],
      "text/markdown": [
       "78439"
      ],
      "text/plain": [
       "[1] 78439"
      ]
     },
     "metadata": {},
     "output_type": "display_data"
    },
    {
     "data": {
      "text/html": [
       "78439"
      ],
      "text/latex": [
       "78439"
      ],
      "text/markdown": [
       "78439"
      ],
      "text/plain": [
       "[1] 78439"
      ]
     },
     "metadata": {},
     "output_type": "display_data"
    }
   ],
   "source": [
    "#QC3, J gene with positional AA information\n",
    "nrow(tdata)\n",
    "tdata <- tdata[ tdata$Jgene %in% keep_jgene,  ]\n",
    "nrow(tdata)"
   ]
  },
  {
   "cell_type": "code",
   "execution_count": 13,
   "id": "e3257c96-f9a1-4ef9-b236-e96beeb57f9d",
   "metadata": {
    "tags": []
   },
   "outputs": [],
   "source": [
    "tdata_qc <- tdata"
   ]
  },
  {
   "cell_type": "code",
   "execution_count": null,
   "id": "fee8fa5d-e8a9-4704-9bf4-24bd5cb016f2",
   "metadata": {},
   "outputs": [],
   "source": []
  },
  {
   "cell_type": "markdown",
   "id": "a34b7833-bcbc-425d-b26e-514fb66f32b9",
   "metadata": {},
   "source": [
    "## CDR3 IMGT position "
   ]
  },
  {
   "cell_type": "markdown",
   "id": "1e5a3bb1-30dd-4740-936d-3c8528d68fd6",
   "metadata": {},
   "source": [
    "One of the most complicated topic in CDR3 is the **positioning definition**. IMGT (https://www.imgt.org/IMGTrepertoire/) provides a reasonable solution illustrated below. The numbers in the table is the CDR3 AA positions in the IMGT definition. \n",
    "<br>\n",
    "The IMGT positions in red is the positions we analyzed in our manuscript (**Ishigaki et al. Nature Genetics 2022**). In total, there are **70** length-position combinations. The center positions are missing in CDR3s less than 15 AAs. On the flip side, we have extra center positions in CDR3s longer than 15 AAs."
   ]
  },
  {
   "cell_type": "markdown",
   "id": "1255bb0c-6a0d-435b-8ea3-0b2f774fba35",
   "metadata": {},
   "source": [
    "<img src=\"./image2.png\" width=\"400\">"
   ]
  },
  {
   "cell_type": "code",
   "execution_count": 14,
   "id": "50c20bae-1162-4b82-a63d-8a679f64a93d",
   "metadata": {},
   "outputs": [
    {
     "data": {
      "text/html": [
       "18"
      ],
      "text/latex": [
       "18"
      ],
      "text/markdown": [
       "18"
      ],
      "text/plain": [
       "[1] 18"
      ]
     },
     "metadata": {},
     "output_type": "display_data"
    }
   ],
   "source": [
    "#all IMGT positions\n",
    "all_imgt_pos <- c(\n",
    "    \"P104\",\"P105\",\"P106\",\"P107\",\"P108\",\"P109\",\"P110\",\"P111\",\n",
    "    \"P111.1\",\"P112.2\",\"P112.1\",\n",
    "    \"P112\",\"P113\",\"P114\",\"P115\",\"P116\",\"P117\",\"P118\")\n",
    "length(all_imgt_pos)"
   ]
  },
  {
   "cell_type": "code",
   "execution_count": 15,
   "id": "0c5d3bf9-07c4-4107-b456-90340c8cf2f0",
   "metadata": {},
   "outputs": [],
   "source": [
    "#Custom function to align CDR3 AA seq to IMGT\n",
    "align_imgt <- function(CDR3){\n",
    "    AA <- unlist(strsplit(CDR3, \"\"));\n",
    "    N_AA_fow <- nchar(CDR3) %/% 2 + nchar(CDR3) %% 2;\n",
    "    N_AA_na <- 18 - nchar(CDR3);\n",
    "    AAmod <- c(\n",
    "        AA[1:(N_AA_fow)],\n",
    "        rep(\"NA\",N_AA_na),\n",
    "        AA[(N_AA_fow + 1):nchar(CDR3)]\n",
    "    );\n",
    "    names(AAmod) <- all_imgt_pos\n",
    "    return(t(AAmod))\n",
    "}"
   ]
  },
  {
   "cell_type": "code",
   "execution_count": 16,
   "id": "86c7e42e-f5e8-4e2f-b6dd-c47fa9ee305a",
   "metadata": {},
   "outputs": [
    {
     "data": {
      "text/html": [
       "15"
      ],
      "text/latex": [
       "15"
      ],
      "text/markdown": [
       "15"
      ],
      "text/plain": [
       "[1] 15"
      ]
     },
     "metadata": {},
     "output_type": "display_data"
    },
    {
     "data": {
      "text/html": [
       "<table>\n",
       "<thead><tr><th scope=col>P104</th><th scope=col>P105</th><th scope=col>P106</th><th scope=col>P107</th><th scope=col>P108</th><th scope=col>P109</th><th scope=col>P110</th><th scope=col>P111</th><th scope=col>P111.1</th><th scope=col>P112.2</th><th scope=col>P112.1</th><th scope=col>P112</th><th scope=col>P113</th><th scope=col>P114</th><th scope=col>P115</th><th scope=col>P116</th><th scope=col>P117</th><th scope=col>P118</th></tr></thead>\n",
       "<tbody>\n",
       "\t<tr><td>C </td><td>A </td><td>T </td><td>T </td><td>G </td><td>T </td><td>S </td><td>G </td><td>NA</td><td>NA</td><td>NA</td><td>S </td><td>Q </td><td>S </td><td>T </td><td>Q </td><td>Y </td><td>F </td></tr>\n",
       "</tbody>\n",
       "</table>\n"
      ],
      "text/latex": [
       "\\begin{tabular}{llllllllllllllllll}\n",
       " P104 & P105 & P106 & P107 & P108 & P109 & P110 & P111 & P111.1 & P112.2 & P112.1 & P112 & P113 & P114 & P115 & P116 & P117 & P118\\\\\n",
       "\\hline\n",
       "\t C  & A  & T  & T  & G  & T  & S  & G  & NA & NA & NA & S  & Q  & S  & T  & Q  & Y  & F \\\\\n",
       "\\end{tabular}\n"
      ],
      "text/markdown": [
       "\n",
       "P104 | P105 | P106 | P107 | P108 | P109 | P110 | P111 | P111.1 | P112.2 | P112.1 | P112 | P113 | P114 | P115 | P116 | P117 | P118 | \n",
       "|---|\n",
       "| C  | A  | T  | T  | G  | T  | S  | G  | NA | NA | NA | S  | Q  | S  | T  | Q  | Y  | F  | \n",
       "\n",
       "\n"
      ],
      "text/plain": [
       "     P104 P105 P106 P107 P108 P109 P110 P111 P111.1 P112.2 P112.1 P112 P113\n",
       "[1,] C    A    T    T    G    T    S    G    NA     NA     NA     S    Q   \n",
       "     P114 P115 P116 P117 P118\n",
       "[1,] S    T    Q    Y    F   "
      ]
     },
     "metadata": {},
     "output_type": "display_data"
    }
   ],
   "source": [
    "#Example 1: when the AA length of CDR3 = 15, 3 NAs in the middle\n",
    "input='CATTGTSGSQSTQYF'\n",
    "nchar(input)\n",
    "align_imgt(CDR3=input)"
   ]
  },
  {
   "cell_type": "code",
   "execution_count": 17,
   "id": "7c0f2f14-11a6-44d3-86c9-e0245b3347a6",
   "metadata": {},
   "outputs": [
    {
     "data": {
      "text/html": [
       "12"
      ],
      "text/latex": [
       "12"
      ],
      "text/markdown": [
       "12"
      ],
      "text/plain": [
       "[1] 12"
      ]
     },
     "metadata": {},
     "output_type": "display_data"
    },
    {
     "data": {
      "text/html": [
       "<table>\n",
       "<thead><tr><th scope=col>P104</th><th scope=col>P105</th><th scope=col>P106</th><th scope=col>P107</th><th scope=col>P108</th><th scope=col>P109</th><th scope=col>P110</th><th scope=col>P111</th><th scope=col>P111.1</th><th scope=col>P112.2</th><th scope=col>P112.1</th><th scope=col>P112</th><th scope=col>P113</th><th scope=col>P114</th><th scope=col>P115</th><th scope=col>P116</th><th scope=col>P117</th><th scope=col>P118</th></tr></thead>\n",
       "<tbody>\n",
       "\t<tr><td>C </td><td>A </td><td>T </td><td>T </td><td>G </td><td>T </td><td>NA</td><td>NA</td><td>NA</td><td>NA</td><td>NA</td><td>NA</td><td>Q </td><td>S </td><td>T </td><td>Q </td><td>Y </td><td>F </td></tr>\n",
       "</tbody>\n",
       "</table>\n"
      ],
      "text/latex": [
       "\\begin{tabular}{llllllllllllllllll}\n",
       " P104 & P105 & P106 & P107 & P108 & P109 & P110 & P111 & P111.1 & P112.2 & P112.1 & P112 & P113 & P114 & P115 & P116 & P117 & P118\\\\\n",
       "\\hline\n",
       "\t C  & A  & T  & T  & G  & T  & NA & NA & NA & NA & NA & NA & Q  & S  & T  & Q  & Y  & F \\\\\n",
       "\\end{tabular}\n"
      ],
      "text/markdown": [
       "\n",
       "P104 | P105 | P106 | P107 | P108 | P109 | P110 | P111 | P111.1 | P112.2 | P112.1 | P112 | P113 | P114 | P115 | P116 | P117 | P118 | \n",
       "|---|\n",
       "| C  | A  | T  | T  | G  | T  | NA | NA | NA | NA | NA | NA | Q  | S  | T  | Q  | Y  | F  | \n",
       "\n",
       "\n"
      ],
      "text/plain": [
       "     P104 P105 P106 P107 P108 P109 P110 P111 P111.1 P112.2 P112.1 P112 P113\n",
       "[1,] C    A    T    T    G    T    NA   NA   NA     NA     NA     NA   Q   \n",
       "     P114 P115 P116 P117 P118\n",
       "[1,] S    T    Q    Y    F   "
      ]
     },
     "metadata": {},
     "output_type": "display_data"
    }
   ],
   "source": [
    "#Example 2: when the AA length of CDR3 = 12, 6 NAs in the middle\n",
    "input='CATTGTQSTQYF'\n",
    "nchar(input)\n",
    "align_imgt(CDR3=input)"
   ]
  },
  {
   "cell_type": "code",
   "execution_count": 18,
   "id": "5c1d467a-ccf8-4539-a78f-927d6ac2bc52",
   "metadata": {},
   "outputs": [
    {
     "data": {
      "text/html": [
       "18"
      ],
      "text/latex": [
       "18"
      ],
      "text/markdown": [
       "18"
      ],
      "text/plain": [
       "[1] 18"
      ]
     },
     "metadata": {},
     "output_type": "display_data"
    },
    {
     "data": {
      "text/html": [
       "<table>\n",
       "<thead><tr><th scope=col>P104</th><th scope=col>P105</th><th scope=col>P106</th><th scope=col>P107</th><th scope=col>P108</th><th scope=col>P109</th><th scope=col>P110</th><th scope=col>P111</th><th scope=col>P111.1</th><th scope=col>P112.2</th><th scope=col>P112.1</th><th scope=col>P112</th><th scope=col>P113</th><th scope=col>P114</th><th scope=col>P115</th><th scope=col>P116</th><th scope=col>P117</th><th scope=col>P118</th></tr></thead>\n",
       "<tbody>\n",
       "\t<tr><td>C</td><td>A</td><td>T</td><td>T</td><td>G</td><td>T</td><td>S</td><td>G</td><td>G</td><td>P</td><td>G</td><td>S</td><td>Q</td><td>S</td><td>T</td><td>Q</td><td>Y</td><td>F</td></tr>\n",
       "</tbody>\n",
       "</table>\n"
      ],
      "text/latex": [
       "\\begin{tabular}{llllllllllllllllll}\n",
       " P104 & P105 & P106 & P107 & P108 & P109 & P110 & P111 & P111.1 & P112.2 & P112.1 & P112 & P113 & P114 & P115 & P116 & P117 & P118\\\\\n",
       "\\hline\n",
       "\t C & A & T & T & G & T & S & G & G & P & G & S & Q & S & T & Q & Y & F\\\\\n",
       "\\end{tabular}\n"
      ],
      "text/markdown": [
       "\n",
       "P104 | P105 | P106 | P107 | P108 | P109 | P110 | P111 | P111.1 | P112.2 | P112.1 | P112 | P113 | P114 | P115 | P116 | P117 | P118 | \n",
       "|---|\n",
       "| C | A | T | T | G | T | S | G | G | P | G | S | Q | S | T | Q | Y | F | \n",
       "\n",
       "\n"
      ],
      "text/plain": [
       "     P104 P105 P106 P107 P108 P109 P110 P111 P111.1 P112.2 P112.1 P112 P113\n",
       "[1,] C    A    T    T    G    T    S    G    G      P      G      S    Q   \n",
       "     P114 P115 P116 P117 P118\n",
       "[1,] S    T    Q    Y    F   "
      ]
     },
     "metadata": {},
     "output_type": "display_data"
    }
   ],
   "source": [
    "#Example 3: when the AA length of CDR3 = 18, no NA in the middle\n",
    "input='CATTGTSGGPGSQSTQYF'\n",
    "nchar(input)\n",
    "align_imgt(CDR3=input)"
   ]
  },
  {
   "cell_type": "code",
   "execution_count": null,
   "id": "5b241c0f-f4f4-41a8-a5df-c066d258f7c1",
   "metadata": {},
   "outputs": [],
   "source": []
  },
  {
   "cell_type": "code",
   "execution_count": 19,
   "id": "5f224649-7074-4477-9dd2-c682fb2f48b2",
   "metadata": {},
   "outputs": [],
   "source": [
    "#Add imgt position data to tdata_qc\n",
    "tdata_imgt_pos <- t(sapply(as.character(tdata_qc$CDR3),align_imgt))\n",
    "colnames(tdata_imgt_pos) <- all_imgt_pos\n",
    "\n",
    "tdata_qc_imgt <- data.frame(tdata_qc,tdata_imgt_pos)"
   ]
  },
  {
   "cell_type": "code",
   "execution_count": 21,
   "id": "4a55733d-24c4-4682-8dc9-98a85a808a3f",
   "metadata": {},
   "outputs": [
    {
     "data": {
      "text/html": [
       "<table>\n",
       "<thead><tr><th></th><th scope=col>CDR3</th><th scope=col>Vgene</th><th scope=col>Jgene</th><th scope=col>Length</th></tr></thead>\n",
       "<tbody>\n",
       "\t<tr><th scope=row>2</th><td>CATTGTSGGPSQSTQYF</td><td>TCRBV10-03       </td><td>TCRBJ02-03       </td><td>17               </td></tr>\n",
       "\t<tr><th scope=row>3</th><td>CASSLRVGGYGYTF   </td><td>TCRBV07-09       </td><td>TCRBJ01-02       </td><td>14               </td></tr>\n",
       "\t<tr><th scope=row>4</th><td>CASRRLGGLNTEAFF  </td><td>TCRBV25-01       </td><td>TCRBJ01-01       </td><td>15               </td></tr>\n",
       "</tbody>\n",
       "</table>\n"
      ],
      "text/latex": [
       "\\begin{tabular}{r|llll}\n",
       "  & CDR3 & Vgene & Jgene & Length\\\\\n",
       "\\hline\n",
       "\t2 & CATTGTSGGPSQSTQYF & TCRBV10-03        & TCRBJ02-03        & 17               \\\\\n",
       "\t3 & CASSLRVGGYGYTF    & TCRBV07-09        & TCRBJ01-02        & 14               \\\\\n",
       "\t4 & CASRRLGGLNTEAFF   & TCRBV25-01        & TCRBJ01-01        & 15               \\\\\n",
       "\\end{tabular}\n"
      ],
      "text/markdown": [
       "\n",
       "| <!--/--> | CDR3 | Vgene | Jgene | Length | \n",
       "|---|---|---|\n",
       "| 2 | CATTGTSGGPSQSTQYF | TCRBV10-03        | TCRBJ02-03        | 17                | \n",
       "| 3 | CASSLRVGGYGYTF    | TCRBV07-09        | TCRBJ01-02        | 14                | \n",
       "| 4 | CASRRLGGLNTEAFF   | TCRBV25-01        | TCRBJ01-01        | 15                | \n",
       "\n",
       "\n"
      ],
      "text/plain": [
       "  CDR3              Vgene      Jgene      Length\n",
       "2 CATTGTSGGPSQSTQYF TCRBV10-03 TCRBJ02-03 17    \n",
       "3 CASSLRVGGYGYTF    TCRBV07-09 TCRBJ01-02 14    \n",
       "4 CASRRLGGLNTEAFF   TCRBV25-01 TCRBJ01-01 15    "
      ]
     },
     "metadata": {},
     "output_type": "display_data"
    },
    {
     "data": {
      "text/html": [
       "<table>\n",
       "<thead><tr><th></th><th scope=col>CDR3</th><th scope=col>Vgene</th><th scope=col>Jgene</th><th scope=col>Length</th><th scope=col>P104</th><th scope=col>P105</th><th scope=col>P106</th><th scope=col>P107</th><th scope=col>P108</th><th scope=col>P109</th><th scope=col>⋯</th><th scope=col>P111.1</th><th scope=col>P112.2</th><th scope=col>P112.1</th><th scope=col>P112</th><th scope=col>P113</th><th scope=col>P114</th><th scope=col>P115</th><th scope=col>P116</th><th scope=col>P117</th><th scope=col>P118</th></tr></thead>\n",
       "<tbody>\n",
       "\t<tr><th scope=row>2</th><td>CATTGTSGGPSQSTQYF</td><td>TCRBV10-03       </td><td>TCRBJ02-03       </td><td>17               </td><td>C                </td><td>A                </td><td>T                </td><td>T                </td><td>G                </td><td>T                </td><td>⋯                </td><td>G                </td><td>NA               </td><td>P                </td><td>S                </td><td>Q                </td><td>S                </td><td>T                </td><td>Q                </td><td>Y                </td><td>F                </td></tr>\n",
       "\t<tr><th scope=row>3</th><td>CASSLRVGGYGYTF   </td><td>TCRBV07-09       </td><td>TCRBJ01-02       </td><td>14               </td><td>C                </td><td>A                </td><td>S                </td><td>S                </td><td>L                </td><td>R                </td><td>⋯                </td><td>NA               </td><td>NA               </td><td>NA               </td><td>G                </td><td>G                </td><td>Y                </td><td>G                </td><td>Y                </td><td>T                </td><td>F                </td></tr>\n",
       "\t<tr><th scope=row>4</th><td>CASRRLGGLNTEAFF  </td><td>TCRBV25-01       </td><td>TCRBJ01-01       </td><td>15               </td><td>C                </td><td>A                </td><td>S                </td><td>R                </td><td>R                </td><td>L                </td><td>⋯                </td><td>NA               </td><td>NA               </td><td>NA               </td><td>L                </td><td>N                </td><td>T                </td><td>E                </td><td>A                </td><td>F                </td><td>F                </td></tr>\n",
       "</tbody>\n",
       "</table>\n"
      ],
      "text/latex": [
       "\\begin{tabular}{r|llllllllllllllllllllll}\n",
       "  & CDR3 & Vgene & Jgene & Length & P104 & P105 & P106 & P107 & P108 & P109 & ⋯ & P111.1 & P112.2 & P112.1 & P112 & P113 & P114 & P115 & P116 & P117 & P118\\\\\n",
       "\\hline\n",
       "\t2 & CATTGTSGGPSQSTQYF & TCRBV10-03        & TCRBJ02-03        & 17                & C                 & A                 & T                 & T                 & G                 & T                 & ⋯                 & G                 & NA                & P                 & S                 & Q                 & S                 & T                 & Q                 & Y                 & F                \\\\\n",
       "\t3 & CASSLRVGGYGYTF    & TCRBV07-09        & TCRBJ01-02        & 14                & C                 & A                 & S                 & S                 & L                 & R                 & ⋯                 & NA                & NA                & NA                & G                 & G                 & Y                 & G                 & Y                 & T                 & F                \\\\\n",
       "\t4 & CASRRLGGLNTEAFF   & TCRBV25-01        & TCRBJ01-01        & 15                & C                 & A                 & S                 & R                 & R                 & L                 & ⋯                 & NA                & NA                & NA                & L                 & N                 & T                 & E                 & A                 & F                 & F                \\\\\n",
       "\\end{tabular}\n"
      ],
      "text/markdown": [
       "\n",
       "| <!--/--> | CDR3 | Vgene | Jgene | Length | P104 | P105 | P106 | P107 | P108 | P109 | ⋯ | P111.1 | P112.2 | P112.1 | P112 | P113 | P114 | P115 | P116 | P117 | P118 | \n",
       "|---|---|---|\n",
       "| 2 | CATTGTSGGPSQSTQYF | TCRBV10-03        | TCRBJ02-03        | 17                | C                 | A                 | T                 | T                 | G                 | T                 | ⋯                 | G                 | NA                | P                 | S                 | Q                 | S                 | T                 | Q                 | Y                 | F                 | \n",
       "| 3 | CASSLRVGGYGYTF    | TCRBV07-09        | TCRBJ01-02        | 14                | C                 | A                 | S                 | S                 | L                 | R                 | ⋯                 | NA                | NA                | NA                | G                 | G                 | Y                 | G                 | Y                 | T                 | F                 | \n",
       "| 4 | CASRRLGGLNTEAFF   | TCRBV25-01        | TCRBJ01-01        | 15                | C                 | A                 | S                 | R                 | R                 | L                 | ⋯                 | NA                | NA                | NA                | L                 | N                 | T                 | E                 | A                 | F                 | F                 | \n",
       "\n",
       "\n"
      ],
      "text/plain": [
       "  CDR3              Vgene      Jgene      Length P104 P105 P106 P107 P108 P109\n",
       "2 CATTGTSGGPSQSTQYF TCRBV10-03 TCRBJ02-03 17     C    A    T    T    G    T   \n",
       "3 CASSLRVGGYGYTF    TCRBV07-09 TCRBJ01-02 14     C    A    S    S    L    R   \n",
       "4 CASRRLGGLNTEAFF   TCRBV25-01 TCRBJ01-01 15     C    A    S    R    R    L   \n",
       "  ⋯ P111.1 P112.2 P112.1 P112 P113 P114 P115 P116 P117 P118\n",
       "2 ⋯ G      NA     P      S    Q    S    T    Q    Y    F   \n",
       "3 ⋯ NA     NA     NA     G    G    Y    G    Y    T    F   \n",
       "4 ⋯ NA     NA     NA     L    N    T    E    A    F    F   "
      ]
     },
     "metadata": {},
     "output_type": "display_data"
    }
   ],
   "source": [
    "#Let's check how it works.\n",
    "head(tdata_qc,n=3)\n",
    "head(tdata_qc_imgt,n=3)"
   ]
  },
  {
   "cell_type": "code",
   "execution_count": null,
   "id": "c2516de2-42de-482a-b179-2d64c55b523f",
   "metadata": {},
   "outputs": [],
   "source": []
  },
  {
   "cell_type": "markdown",
   "id": "2b122032-4283-4792-86dc-6fa13ad9da37",
   "metadata": {},
   "source": [
    "## CDR3 phenotype 1 (length-position combination)"
   ]
  },
  {
   "cell_type": "markdown",
   "id": "8a04ca76-7d1b-47a9-b51e-f8d48de8da88",
   "metadata": {},
   "source": [
    "A very simple and straigtforward way to create CDR3 phenotype is simply focusing on each AA position for each length of CDR3. For each AA position of each length of CDR3, we quantify AA usage ratio. This is **NOT** what we used in our manuscript.\n",
    "<br>\n",
    "Since this analysis is stratified by CDR3 length, we expect **a large amount of input CDR3 data** (typically **bulk** TCR sequence data)."
   ]
  },
  {
   "cell_type": "code",
   "execution_count": 22,
   "id": "40d2fddb-929e-4064-af95-4eca8f78402e",
   "metadata": {},
   "outputs": [
    {
     "data": {
      "text/html": [
       "<table>\n",
       "<thead><tr><th scope=col>AA</th><th scope=col>Ratio</th></tr></thead>\n",
       "<tbody>\n",
       "\t<tr><td>A           </td><td>0.0724854282</td></tr>\n",
       "\t<tr><td>C           </td><td>0.0001494545</td></tr>\n",
       "\t<tr><td>D           </td><td>0.0476759827</td></tr>\n",
       "</tbody>\n",
       "</table>\n"
      ],
      "text/latex": [
       "\\begin{tabular}{r|ll}\n",
       " AA & Ratio\\\\\n",
       "\\hline\n",
       "\t A            & 0.0724854282\\\\\n",
       "\t C            & 0.0001494545\\\\\n",
       "\t D            & 0.0476759827\\\\\n",
       "\\end{tabular}\n"
      ],
      "text/markdown": [
       "\n",
       "AA | Ratio | \n",
       "|---|---|---|\n",
       "| A            | 0.0724854282 | \n",
       "| C            | 0.0001494545 | \n",
       "| D            | 0.0476759827 | \n",
       "\n",
       "\n"
      ],
      "text/plain": [
       "  AA Ratio       \n",
       "1 A  0.0724854282\n",
       "2 C  0.0001494545\n",
       "3 D  0.0476759827"
      ]
     },
     "metadata": {},
     "output_type": "display_data"
    }
   ],
   "source": [
    "#Eample 1: P110 of CDR3 with length 15 AAs\n",
    "Target_Len <- 15\n",
    "Target_Pos <- \"P110\"\n",
    "\n",
    "Target_AA <- subset(tdata_qc_imgt,Length==Target_Len)[,Target_Pos]\n",
    "Target_AA <- as.character(Target_AA)\n",
    "TB <- table(Target_AA)\n",
    "Ratio <- as.numeric(TB)/length(Target_AA)\n",
    "out <- data.frame(AA=names(TB),Ratio)\n",
    "head(out,n=3)"
   ]
  },
  {
   "cell_type": "code",
   "execution_count": null,
   "id": "f96a226b-41c9-40d9-85c0-8740b9afef37",
   "metadata": {
    "tags": []
   },
   "outputs": [],
   "source": []
  },
  {
   "cell_type": "code",
   "execution_count": null,
   "id": "d8cf1e99-d0a8-4a2f-a870-f8037d4b46c0",
   "metadata": {},
   "outputs": [],
   "source": []
  },
  {
   "cell_type": "markdown",
   "id": "d957fd57-d4b5-4849-8332-678cb9e25b75",
   "metadata": {},
   "source": [
    "## CDR3 phenotype 2 (length-position combination, excluding germ-line V/J AA)"
   ]
  },
  {
   "cell_type": "markdown",
   "id": "5f28a575-d175-4889-b514-7e95d598289b",
   "metadata": {},
   "source": [
    "This is what we did in our manuscript (**Ishigaki et al. Nature Genetics 2022**). It is almost same as CDR3 phenotype 1; for each AA position of each length of CDR3, we quantify AA usage ratio. However, we added an additional treatment in this phenotype. **We excluded CDR3-AA that is encoded in the germline sequences of V and J genes**. By doing so, we can exclude V and J gene effects in the CDR3 analysis, which is sometimes very helpful to understand CDR3 biology.\n",
    "<br>\n",
    "In our manuscript, we used **70** phenotypes since we included 70 length-position combinations in our analysis (see above discussion).\n",
    "<br>\n",
    "Since this analysis is stratified by CDR3 length, we expect **a large amount of input CDR3 data** (typically **bulk** TCR sequence data).\n",
    "<br>\n",
    "We refer to the information in the IMGT website for all germline sequences:\n",
    "<br>\n",
    "**V genes**: https://www.imgt.org/IMGTrepertoire/Proteins/proteinDisplays.php?species=human&latin=Homo%20sapiens&group=TRBV\n",
    "**J genes**: https://www.imgt.org/IMGTrepertoire/Proteins/proteinDisplays.php?species=human&latin=Homo%20sapiens&group=TRBJ"
   ]
  },
  {
   "cell_type": "code",
   "execution_count": 37,
   "id": "ab11e3b3-34c8-4921-8b0f-cb2c5615e030",
   "metadata": {},
   "outputs": [
    {
     "data": {
      "text/html": [
       "<ol class=list-inline>\n",
       "\t<li>'TCRBV01-01:P104:C'</li>\n",
       "\t<li>'TCRBV01-01:P105:T'</li>\n",
       "\t<li>'TCRBV01-01:P106:S'</li>\n",
       "</ol>\n"
      ],
      "text/latex": [
       "\\begin{enumerate*}\n",
       "\\item 'TCRBV01-01:P104:C'\n",
       "\\item 'TCRBV01-01:P105:T'\n",
       "\\item 'TCRBV01-01:P106:S'\n",
       "\\end{enumerate*}\n"
      ],
      "text/markdown": [
       "1. 'TCRBV01-01:P104:C'\n",
       "2. 'TCRBV01-01:P105:T'\n",
       "3. 'TCRBV01-01:P106:S'\n",
       "\n",
       "\n"
      ],
      "text/plain": [
       "[1] \"TCRBV01-01:P104:C\" \"TCRBV01-01:P105:T\" \"TCRBV01-01:P106:S\""
      ]
     },
     "metadata": {},
     "output_type": "display_data"
    }
   ],
   "source": [
    "#AAs encoded in V gene germline sequences\n",
    "V_germ_line <- read.table(\"../data/tcr_phenotype/demo/V_exclude_AA.info\",\n",
    "                         header=T,colClasses=\"character\")\n",
    "V_germ_line$IMGT <- paste0(\"P\",V_germ_line$IMGT)\n",
    "V_exclude <- paste0(V_germ_line$Vgene,\":\",V_germ_line$IMGT,\":\",V_germ_line$AA)\n",
    "head(V_exclude,n=3)"
   ]
  },
  {
   "cell_type": "code",
   "execution_count": 29,
   "id": "f3597374-b284-4cce-a4e4-9fdefa2d328b",
   "metadata": {},
   "outputs": [
    {
     "data": {
      "text/html": [
       "<ol class=list-inline>\n",
       "\t<li>'TCRBJ01-01:L12:P113:N'</li>\n",
       "\t<li>'TCRBJ01-01:L13:P113:N'</li>\n",
       "\t<li>'TCRBJ01-01:L14:P113:N'</li>\n",
       "</ol>\n"
      ],
      "text/latex": [
       "\\begin{enumerate*}\n",
       "\\item 'TCRBJ01-01:L12:P113:N'\n",
       "\\item 'TCRBJ01-01:L13:P113:N'\n",
       "\\item 'TCRBJ01-01:L14:P113:N'\n",
       "\\end{enumerate*}\n"
      ],
      "text/markdown": [
       "1. 'TCRBJ01-01:L12:P113:N'\n",
       "2. 'TCRBJ01-01:L13:P113:N'\n",
       "3. 'TCRBJ01-01:L14:P113:N'\n",
       "\n",
       "\n"
      ],
      "text/plain": [
       "[1] \"TCRBJ01-01:L12:P113:N\" \"TCRBJ01-01:L13:P113:N\" \"TCRBJ01-01:L14:P113:N\""
      ]
     },
     "metadata": {},
     "output_type": "display_data"
    }
   ],
   "source": [
    "#AAs encoded in J gene germline sequences (we need to consider CDR3 length for J genes)\n",
    "J_germ_line <- read.table(\"../data/tcr_phenotype/demo/J_exclude_AA.info\",\n",
    "                         header=T,colClasses=\"character\")\n",
    "J_germ_line$IMGT <- paste0(\"P\",J_germ_line$IMGT)\n",
    "J_exclude <- paste0(J_germ_line$Jgene,\":L\",J_germ_line$Length,\":\",J_germ_line$IMGT,\":\",J_germ_line$AA)\n",
    "head(J_exclude,n=3)"
   ]
  },
  {
   "cell_type": "code",
   "execution_count": 33,
   "id": "60486ff1-e43c-4713-8678-45b331f6aab4",
   "metadata": {},
   "outputs": [
    {
     "data": {
      "text/html": [
       "<table>\n",
       "<thead><tr><th></th><th scope=col>AA</th><th scope=col>Vgene</th><th scope=col>Jgene</th><th scope=col>Length</th><th scope=col>V_tag</th><th scope=col>J_tag</th></tr></thead>\n",
       "<tbody>\n",
       "\t<tr><th scope=row>4</th><td>R                    </td><td>TCRBV25-01           </td><td>TCRBJ01-01           </td><td>15                   </td><td>TCRBV25-01:P108:R    </td><td>TCRBJ01-01:L15:P108:R</td></tr>\n",
       "\t<tr><th scope=row>8</th><td>E                    </td><td>TCRBV02-01           </td><td>TCRBJ02-02           </td><td>15                   </td><td>TCRBV02-01:P108:E    </td><td>TCRBJ02-02:L15:P108:E</td></tr>\n",
       "</tbody>\n",
       "</table>\n"
      ],
      "text/latex": [
       "\\begin{tabular}{r|llllll}\n",
       "  & AA & Vgene & Jgene & Length & V\\_tag & J\\_tag\\\\\n",
       "\\hline\n",
       "\t4 & R                     & TCRBV25-01            & TCRBJ01-01            & 15                    & TCRBV25-01:P108:R     & TCRBJ01-01:L15:P108:R\\\\\n",
       "\t8 & E                     & TCRBV02-01            & TCRBJ02-02            & 15                    & TCRBV02-01:P108:E     & TCRBJ02-02:L15:P108:E\\\\\n",
       "\\end{tabular}\n"
      ],
      "text/markdown": [
       "\n",
       "| <!--/--> | AA | Vgene | Jgene | Length | V_tag | J_tag | \n",
       "|---|---|\n",
       "| 4 | R                     | TCRBV25-01            | TCRBJ01-01            | 15                    | TCRBV25-01:P108:R     | TCRBJ01-01:L15:P108:R | \n",
       "| 8 | E                     | TCRBV02-01            | TCRBJ02-02            | 15                    | TCRBV02-01:P108:E     | TCRBJ02-02:L15:P108:E | \n",
       "\n",
       "\n"
      ],
      "text/plain": [
       "  AA Vgene      Jgene      Length V_tag             J_tag                \n",
       "4 R  TCRBV25-01 TCRBJ01-01 15     TCRBV25-01:P108:R TCRBJ01-01:L15:P108:R\n",
       "8 E  TCRBV02-01 TCRBJ02-02 15     TCRBV02-01:P108:E TCRBJ02-02:L15:P108:E"
      ]
     },
     "metadata": {},
     "output_type": "display_data"
    }
   ],
   "source": [
    "#Eample 1: P108 of CDR3 with length 15 AA\n",
    "Target_Len <- 15\n",
    "Target_Pos <- \"P108\"\n",
    "\n",
    "Target_data <- subset(tdata_qc_imgt,Length==Target_Len)[,c(Target_Pos,\"Vgene\",\"Jgene\",\"Length\")]\n",
    "colnames(Target_data)[1] <- \"AA\"\n",
    "Target_data$V_tag <- paste0(Target_data$Vgene,\":\",Target_Pos,\":\",Target_data$AA)\n",
    "Target_data$J_tag <- paste0(Target_data$Jgene,\":L\",Target_data$Length,\":\",Target_Pos,\":\",Target_data$AA)\n",
    "head(Target_data,n=2)"
   ]
  },
  {
   "cell_type": "code",
   "execution_count": 34,
   "id": "44e7f685-876f-45d9-a22a-3fb07fbf682e",
   "metadata": {},
   "outputs": [
    {
     "data": {
      "text/html": [
       "20073"
      ],
      "text/latex": [
       "20073"
      ],
      "text/markdown": [
       "20073"
      ],
      "text/plain": [
       "[1] 20073"
      ]
     },
     "metadata": {},
     "output_type": "display_data"
    },
    {
     "data": {
      "text/html": [
       "11989"
      ],
      "text/latex": [
       "11989"
      ],
      "text/markdown": [
       "11989"
      ],
      "text/plain": [
       "[1] 11989"
      ]
     },
     "metadata": {},
     "output_type": "display_data"
    }
   ],
   "source": [
    "#exclude germline V/J sequence\n",
    "nrow(Target_data)\n",
    "Target_data <- Target_data[! Target_data$V_tag %in% V_exclude, ]\n",
    "Target_data <- Target_data[! Target_data$J_tag %in% J_exclude, ]\n",
    "nrow(Target_data)"
   ]
  },
  {
   "cell_type": "code",
   "execution_count": 36,
   "id": "f3efeab3-e4b8-47e3-954b-12dd5f0079ab",
   "metadata": {},
   "outputs": [
    {
     "data": {
      "text/html": [
       "<table>\n",
       "<thead><tr><th scope=col>AA</th><th scope=col>Ratio</th></tr></thead>\n",
       "<tbody>\n",
       "\t<tr><td>A           </td><td>0.0717324214</td></tr>\n",
       "\t<tr><td>C           </td><td>0.0003336392</td></tr>\n",
       "\t<tr><td>D           </td><td>0.0428726332</td></tr>\n",
       "</tbody>\n",
       "</table>\n"
      ],
      "text/latex": [
       "\\begin{tabular}{r|ll}\n",
       " AA & Ratio\\\\\n",
       "\\hline\n",
       "\t A            & 0.0717324214\\\\\n",
       "\t C            & 0.0003336392\\\\\n",
       "\t D            & 0.0428726332\\\\\n",
       "\\end{tabular}\n"
      ],
      "text/markdown": [
       "\n",
       "AA | Ratio | \n",
       "|---|---|---|\n",
       "| A            | 0.0717324214 | \n",
       "| C            | 0.0003336392 | \n",
       "| D            | 0.0428726332 | \n",
       "\n",
       "\n"
      ],
      "text/plain": [
       "  AA Ratio       \n",
       "1 A  0.0717324214\n",
       "2 C  0.0003336392\n",
       "3 D  0.0428726332"
      ]
     },
     "metadata": {},
     "output_type": "display_data"
    }
   ],
   "source": [
    "#calculate the AA usage ratio\n",
    "Target_AA <- as.character(Target_data$AA)\n",
    "TB <- table(Target_AA)\n",
    "Ratio <- as.numeric(TB)/length(Target_AA)\n",
    "out <- data.frame(AA=names(TB),Ratio)\n",
    "head(out,n=3)"
   ]
  },
  {
   "cell_type": "code",
   "execution_count": null,
   "id": "45a61ddf-a57f-47cc-911a-6df765e9a18f",
   "metadata": {},
   "outputs": [],
   "source": []
  },
  {
   "cell_type": "code",
   "execution_count": null,
   "id": "e10fd3c4-39ee-4d24-9fef-6443e49eb967",
   "metadata": {},
   "outputs": [],
   "source": []
  },
  {
   "cell_type": "markdown",
   "id": "19204919-72d6-46a4-a730-340204efba27",
   "metadata": {},
   "source": [
    "## CDR3 phenotype 3 (position only)"
   ]
  },
  {
   "cell_type": "markdown",
   "id": "b721eac8-0fb2-499b-97d2-974c83555a8f",
   "metadata": {},
   "source": [
    "This strategy is focusing on only AA positions (jointly analyzing a CDR3 position **across all length of CDR3**). Since it is not stratified by length, **it maybe appropriate when your data does not have sufficient CDR3 numbers** (eg, **single cell data**)."
   ]
  },
  {
   "cell_type": "code",
   "execution_count": 328,
   "id": "c25e3bc7-bc72-4b69-a0dd-d8b815fbee5b",
   "metadata": {},
   "outputs": [
    {
     "data": {
      "text/html": [
       "<table>\n",
       "<thead><tr><th scope=col>AA</th><th scope=col>Ratio</th></tr></thead>\n",
       "<tbody>\n",
       "\t<tr><td>A           </td><td>0.0663024791</td></tr>\n",
       "\t<tr><td>C           </td><td>0.0001525151</td></tr>\n",
       "\t<tr><td>D           </td><td>0.0398064445</td></tr>\n",
       "</tbody>\n",
       "</table>\n"
      ],
      "text/latex": [
       "\\begin{tabular}{r|ll}\n",
       " AA & Ratio\\\\\n",
       "\\hline\n",
       "\t A            & 0.0663024791\\\\\n",
       "\t C            & 0.0001525151\\\\\n",
       "\t D            & 0.0398064445\\\\\n",
       "\\end{tabular}\n"
      ],
      "text/markdown": [
       "\n",
       "AA | Ratio | \n",
       "|---|---|---|\n",
       "| A            | 0.0663024791 | \n",
       "| C            | 0.0001525151 | \n",
       "| D            | 0.0398064445 | \n",
       "\n",
       "\n"
      ],
      "text/plain": [
       "  AA Ratio       \n",
       "1 A  0.0663024791\n",
       "2 C  0.0001525151\n",
       "3 D  0.0398064445"
      ]
     },
     "metadata": {},
     "output_type": "display_data"
    }
   ],
   "source": [
    "#Eample 1: P110 of CDR3 (all lengths of CDR3)\n",
    "Target_Pos <- \"P110\"\n",
    "\n",
    "Target_AA <- tdata_qc_imgt[,Target_Pos]\n",
    "Target_AA <- as.character(Target_AA)\n",
    "Target_AA <- Target_AA[Target_AA!=\"NA\"]\n",
    "TB <- table(Target_AA)\n",
    "Ratio <- as.numeric(TB)/length(Target_AA)\n",
    "out <- data.frame(AA=names(TB),Ratio)\n",
    "head(out,n=3)"
   ]
  },
  {
   "cell_type": "code",
   "execution_count": null,
   "id": "ff4eec01-5785-4cf5-b37f-86f17db5f244",
   "metadata": {},
   "outputs": [],
   "source": []
  },
  {
   "cell_type": "code",
   "execution_count": null,
   "id": "fb0e69f9-32a7-4a37-9270-c75b19bf5d61",
   "metadata": {
    "tags": []
   },
   "outputs": [],
   "source": []
  },
  {
   "cell_type": "markdown",
   "id": "707c6306-38ff-462b-8c69-abddaebb1027",
   "metadata": {},
   "source": [
    "## CDR3 phenotype 4 (middle positions)"
   ]
  },
  {
   "cell_type": "markdown",
   "id": "661052e8-9b2d-4d4b-9447-5fe43deca871",
   "metadata": {},
   "source": [
    "This strategy is focusing on only middle AA positions (P108-P112, as we reported in another recent manuscript: **Lagattuta et al. Nature Immunology 2022**), jointly analyzing these positions **across all length of CDR3**. We will obtain **one average frequency** for each AA (one phenotype for each sample).\n",
    "<br>\n",
    "Since it is not stratified by length, **it maybe appropriate when your data does not have sufficient CDR3 numbers** (eg, **single cell data**)."
   ]
  },
  {
   "cell_type": "code",
   "execution_count": 40,
   "id": "44025f15-4ec4-4ac4-bbc0-7f66bbfafe26",
   "metadata": {},
   "outputs": [
    {
     "data": {
      "text/html": [
       "20"
      ],
      "text/latex": [
       "20"
      ],
      "text/markdown": [
       "20"
      ],
      "text/plain": [
       "[1] 20"
      ]
     },
     "metadata": {},
     "output_type": "display_data"
    }
   ],
   "source": [
    "all_aa <- c(\"A\", \"C\", \"D\", \"E\", \"F\", \"G\", \"H\", \"I\", \"K\", \"L\", \n",
    "            \"M\", \"N\", \"P\", \"Q\", \"R\", \"S\", \"T\", \"V\", \"W\", \"Y\")\n",
    "length(all_aa)"
   ]
  },
  {
   "cell_type": "code",
   "execution_count": 41,
   "id": "3f3e7ae6-dcc4-44db-95a0-cb0cec632622",
   "metadata": {},
   "outputs": [
    {
     "data": {
      "text/html": [
       "<table>\n",
       "<thead><tr><th></th><th scope=col>A</th><th scope=col>C</th><th scope=col>D</th><th scope=col>E</th><th scope=col>F</th><th scope=col>G</th><th scope=col>H</th><th scope=col>I</th><th scope=col>K</th><th scope=col>L</th><th scope=col>M</th><th scope=col>N</th><th scope=col>P</th><th scope=col>Q</th><th scope=col>R</th><th scope=col>S</th><th scope=col>T</th><th scope=col>V</th><th scope=col>W</th><th scope=col>Y</th></tr></thead>\n",
       "<tbody>\n",
       "\t<tr><th scope=row>2</th><td>0        </td><td>0        </td><td>0        </td><td>0        </td><td>0        </td><td>0.4285714</td><td>0        </td><td>0        </td><td>0        </td><td>0.00     </td><td>0        </td><td>0        </td><td>0.1428571</td><td>0        </td><td>0.00     </td><td>0.2857143</td><td>0.1428571</td><td>0.00     </td><td>0        </td><td>0        </td></tr>\n",
       "\t<tr><th scope=row>3</th><td>0        </td><td>0        </td><td>0        </td><td>0        </td><td>0        </td><td>0.2500000</td><td>0        </td><td>0        </td><td>0        </td><td>0.25     </td><td>0        </td><td>0        </td><td>0.0000000</td><td>0        </td><td>0.25     </td><td>0.0000000</td><td>0.0000000</td><td>0.25     </td><td>0        </td><td>0        </td></tr>\n",
       "</tbody>\n",
       "</table>\n"
      ],
      "text/latex": [
       "\\begin{tabular}{r|llllllllllllllllllll}\n",
       "  & A & C & D & E & F & G & H & I & K & L & M & N & P & Q & R & S & T & V & W & Y\\\\\n",
       "\\hline\n",
       "\t2 & 0         & 0         & 0         & 0         & 0         & 0.4285714 & 0         & 0         & 0         & 0.00      & 0         & 0         & 0.1428571 & 0         & 0.00      & 0.2857143 & 0.1428571 & 0.00      & 0         & 0        \\\\\n",
       "\t3 & 0         & 0         & 0         & 0         & 0         & 0.2500000 & 0         & 0         & 0         & 0.25      & 0         & 0         & 0.0000000 & 0         & 0.25      & 0.0000000 & 0.0000000 & 0.25      & 0         & 0        \\\\\n",
       "\\end{tabular}\n"
      ],
      "text/markdown": [
       "\n",
       "| <!--/--> | A | C | D | E | F | G | H | I | K | L | M | N | P | Q | R | S | T | V | W | Y | \n",
       "|---|---|\n",
       "| 2 | 0         | 0         | 0         | 0         | 0         | 0.4285714 | 0         | 0         | 0         | 0.00      | 0         | 0         | 0.1428571 | 0         | 0.00      | 0.2857143 | 0.1428571 | 0.00      | 0         | 0         | \n",
       "| 3 | 0         | 0         | 0         | 0         | 0         | 0.2500000 | 0         | 0         | 0         | 0.25      | 0         | 0         | 0.0000000 | 0         | 0.25      | 0.0000000 | 0.0000000 | 0.25      | 0         | 0         | \n",
       "\n",
       "\n"
      ],
      "text/plain": [
       "  A C D E F G         H I K L    M N P         Q R    S         T         V   \n",
       "2 0 0 0 0 0 0.4285714 0 0 0 0.00 0 0 0.1428571 0 0.00 0.2857143 0.1428571 0.00\n",
       "3 0 0 0 0 0 0.2500000 0 0 0 0.25 0 0 0.0000000 0 0.25 0.0000000 0.0000000 0.25\n",
       "  W Y\n",
       "2 0 0\n",
       "3 0 0"
      ]
     },
     "metadata": {},
     "output_type": "display_data"
    }
   ],
   "source": [
    "#Eample\n",
    "Target_data <- tdata_qc_imgt[,c(\"P108\",\"P109\",\"P110\",\"P111\",\"P111.1\",\"P112.2\",\"P112.1\",\"P112\"),]\n",
    "midAA <- t(apply(Target_data,1,function(x){\n",
    "    x <- as.character(x);\n",
    "    x <- x[x!=\"NA\"]\n",
    "    TB <- table(x)\n",
    "    Ratio <- as.numeric(TB)/length(x)\n",
    "    names(Ratio) <- names(TB)\n",
    "    Ratio <- Ratio[all_aa]\n",
    "    Ratio[is.na(Ratio)] <- 0\n",
    "    return(Ratio)\n",
    "}))\n",
    "colnames(midAA) <- all_aa\n",
    "head(midAA,n=2)"
   ]
  },
  {
   "cell_type": "code",
   "execution_count": 42,
   "id": "734b8454-b083-40a6-b91d-697783e6aa73",
   "metadata": {},
   "outputs": [
    {
     "data": {
      "text/html": [
       "<ol class=list-inline>\n",
       "\t<li>78439</li>\n",
       "\t<li>8</li>\n",
       "</ol>\n"
      ],
      "text/latex": [
       "\\begin{enumerate*}\n",
       "\\item 78439\n",
       "\\item 8\n",
       "\\end{enumerate*}\n"
      ],
      "text/markdown": [
       "1. 78439\n",
       "2. 8\n",
       "\n",
       "\n"
      ],
      "text/plain": [
       "[1] 78439     8"
      ]
     },
     "metadata": {},
     "output_type": "display_data"
    },
    {
     "data": {
      "text/html": [
       "<ol class=list-inline>\n",
       "\t<li>78439</li>\n",
       "\t<li>20</li>\n",
       "</ol>\n"
      ],
      "text/latex": [
       "\\begin{enumerate*}\n",
       "\\item 78439\n",
       "\\item 20\n",
       "\\end{enumerate*}\n"
      ],
      "text/markdown": [
       "1. 78439\n",
       "2. 20\n",
       "\n",
       "\n"
      ],
      "text/plain": [
       "[1] 78439    20"
      ]
     },
     "metadata": {},
     "output_type": "display_data"
    }
   ],
   "source": [
    "#check dimention\n",
    "dim(Target_data)\n",
    "dim(midAA)"
   ]
  },
  {
   "cell_type": "code",
   "execution_count": 43,
   "id": "6fa6b269-aae8-4ff8-8455-9bd44c0be599",
   "metadata": {},
   "outputs": [
    {
     "data": {
      "text/plain": [
       "   Min. 1st Qu.  Median    Mean 3rd Qu.    Max. \n",
       "      1       1       1       1       1       1 "
      ]
     },
     "metadata": {},
     "output_type": "display_data"
    }
   ],
   "source": [
    "#check rowSum (should be 1): ok\n",
    "summary( apply(midAA,1,function(x){sum(x)}) )"
   ]
  },
  {
   "cell_type": "code",
   "execution_count": 44,
   "id": "fa44c1c7-ec0c-4221-ba8a-6f0e7e1d1d1b",
   "metadata": {},
   "outputs": [
    {
     "data": {
      "text/html": [
       "<table>\n",
       "<thead><tr><th></th><th scope=col>AA</th><th scope=col>Ratio</th></tr></thead>\n",
       "<tbody>\n",
       "\t<tr><th scope=row>A</th><td>A           </td><td>0.0677533315</td></tr>\n",
       "\t<tr><th scope=row>C</th><td>C           </td><td>0.0002469769</td></tr>\n",
       "\t<tr><th scope=row>D</th><td>D           </td><td>0.0445584497</td></tr>\n",
       "</tbody>\n",
       "</table>\n"
      ],
      "text/latex": [
       "\\begin{tabular}{r|ll}\n",
       "  & AA & Ratio\\\\\n",
       "\\hline\n",
       "\tA & A            & 0.0677533315\\\\\n",
       "\tC & C            & 0.0002469769\\\\\n",
       "\tD & D            & 0.0445584497\\\\\n",
       "\\end{tabular}\n"
      ],
      "text/markdown": [
       "\n",
       "| <!--/--> | AA | Ratio | \n",
       "|---|---|---|\n",
       "| A | A            | 0.0677533315 | \n",
       "| C | C            | 0.0002469769 | \n",
       "| D | D            | 0.0445584497 | \n",
       "\n",
       "\n"
      ],
      "text/plain": [
       "  AA Ratio       \n",
       "A A  0.0677533315\n",
       "C C  0.0002469769\n",
       "D D  0.0445584497"
      ]
     },
     "metadata": {},
     "output_type": "display_data"
    }
   ],
   "source": [
    "#calculate mean of each AA\n",
    "mean_ratio <- apply(midAA,2,function(x){mean(x)})\n",
    "out <- data.frame(AA=names(mean_ratio),Ratio=mean_ratio)\n",
    "head(out,n=3)"
   ]
  },
  {
   "cell_type": "code",
   "execution_count": null,
   "id": "2611c4eb-84fc-4787-be06-78905a7758d5",
   "metadata": {},
   "outputs": [],
   "source": []
  },
  {
   "cell_type": "code",
   "execution_count": null,
   "id": "309344a9-a442-4505-a83f-eb922ff15b89",
   "metadata": {},
   "outputs": [],
   "source": []
  },
  {
   "cell_type": "code",
   "execution_count": null,
   "id": "2e21901d-67eb-4e20-946d-1066b5519f70",
   "metadata": {},
   "outputs": [],
   "source": []
  },
  {
   "cell_type": "code",
   "execution_count": null,
   "id": "91ff0f3a-e53c-4a68-a35f-5fcbe6c89279",
   "metadata": {},
   "outputs": [],
   "source": []
  }
 ],
 "metadata": {
  "kernelspec": {
   "display_name": "R [conda env:Rv422]",
   "language": "R",
   "name": "conda-env-Rv422-r"
  },
  "language_info": {
   "codemirror_mode": "r",
   "file_extension": ".r",
   "mimetype": "text/x-r-source",
   "name": "R",
   "pygments_lexer": "r",
   "version": "4.2.2"
  }
 },
 "nbformat": 4,
 "nbformat_minor": 5
}
