{
 "cells": [
  {
   "cell_type": "markdown",
   "metadata": {},
   "source": [
    "# Genotype qc\n",
    "- This is a script for QC of genotype data\n",
    "- Also, this shows how we conducted PCA"
   ]
  },
  {
   "cell_type": "markdown",
   "metadata": {},
   "source": [
    "## Example of genotype data "
   ]
  },
  {
   "cell_type": "code",
   "execution_count": 1,
   "metadata": {},
   "outputs": [
    {
     "data": {
      "text/html": [
       "<table>\n",
       "<thead><tr><th></th><th scope=col>HLA_DRB1_01_01</th><th scope=col>HLA_DRB1_01_02</th><th scope=col>HLA_DRB1_01_03</th><th scope=col>HLA_DRB1_03_01</th><th scope=col>HLA_DRB1_04_01</th></tr></thead>\n",
       "<tbody>\n",
       "\t<tr><th scope=row>HIP00110</th><td>0</td><td>0</td><td>0</td><td>0</td><td>0</td></tr>\n",
       "\t<tr><th scope=row>HIP00169</th><td>0</td><td>0</td><td>0</td><td>0</td><td>0</td></tr>\n",
       "\t<tr><th scope=row>HIP00594</th><td>0</td><td>0</td><td>0</td><td>0</td><td>0</td></tr>\n",
       "\t<tr><th scope=row>HIP00602</th><td>0</td><td>0</td><td>0</td><td>0</td><td>0</td></tr>\n",
       "\t<tr><th scope=row>HIP00614</th><td>0</td><td>0</td><td>1</td><td>0</td><td>0</td></tr>\n",
       "\t<tr><th scope=row>HIP00640</th><td>0</td><td>0</td><td>0</td><td>0</td><td>1</td></tr>\n",
       "\t<tr><th scope=row>HIP00707</th><td>1</td><td>0</td><td>0</td><td>0</td><td>0</td></tr>\n",
       "\t<tr><th scope=row>HIP00710</th><td>0</td><td>0</td><td>0</td><td>0</td><td>0</td></tr>\n",
       "\t<tr><th scope=row>HIP00715</th><td>0</td><td>0</td><td>0</td><td>0</td><td>0</td></tr>\n",
       "\t<tr><th scope=row>HIP00728</th><td>0</td><td>0</td><td>0</td><td>0</td><td>0</td></tr>\n",
       "</tbody>\n",
       "</table>\n"
      ],
      "text/latex": [
       "\\begin{tabular}{r|lllll}\n",
       "  & HLA\\_DRB1\\_01\\_01 & HLA\\_DRB1\\_01\\_02 & HLA\\_DRB1\\_01\\_03 & HLA\\_DRB1\\_03\\_01 & HLA\\_DRB1\\_04\\_01\\\\\n",
       "\\hline\n",
       "\tHIP00110 & 0 & 0 & 0 & 0 & 0\\\\\n",
       "\tHIP00169 & 0 & 0 & 0 & 0 & 0\\\\\n",
       "\tHIP00594 & 0 & 0 & 0 & 0 & 0\\\\\n",
       "\tHIP00602 & 0 & 0 & 0 & 0 & 0\\\\\n",
       "\tHIP00614 & 0 & 0 & 1 & 0 & 0\\\\\n",
       "\tHIP00640 & 0 & 0 & 0 & 0 & 1\\\\\n",
       "\tHIP00707 & 1 & 0 & 0 & 0 & 0\\\\\n",
       "\tHIP00710 & 0 & 0 & 0 & 0 & 0\\\\\n",
       "\tHIP00715 & 0 & 0 & 0 & 0 & 0\\\\\n",
       "\tHIP00728 & 0 & 0 & 0 & 0 & 0\\\\\n",
       "\\end{tabular}\n"
      ],
      "text/markdown": [
       "\n",
       "| <!--/--> | HLA_DRB1_01_01 | HLA_DRB1_01_02 | HLA_DRB1_01_03 | HLA_DRB1_03_01 | HLA_DRB1_04_01 | \n",
       "|---|---|---|---|---|---|---|---|---|---|\n",
       "| HIP00110 | 0 | 0 | 0 | 0 | 0 | \n",
       "| HIP00169 | 0 | 0 | 0 | 0 | 0 | \n",
       "| HIP00594 | 0 | 0 | 0 | 0 | 0 | \n",
       "| HIP00602 | 0 | 0 | 0 | 0 | 0 | \n",
       "| HIP00614 | 0 | 0 | 1 | 0 | 0 | \n",
       "| HIP00640 | 0 | 0 | 0 | 0 | 1 | \n",
       "| HIP00707 | 1 | 0 | 0 | 0 | 0 | \n",
       "| HIP00710 | 0 | 0 | 0 | 0 | 0 | \n",
       "| HIP00715 | 0 | 0 | 0 | 0 | 0 | \n",
       "| HIP00728 | 0 | 0 | 0 | 0 | 0 | \n",
       "\n",
       "\n"
      ],
      "text/plain": [
       "         HLA_DRB1_01_01 HLA_DRB1_01_02 HLA_DRB1_01_03 HLA_DRB1_03_01\n",
       "HIP00110 0              0              0              0             \n",
       "HIP00169 0              0              0              0             \n",
       "HIP00594 0              0              0              0             \n",
       "HIP00602 0              0              0              0             \n",
       "HIP00614 0              0              1              0             \n",
       "HIP00640 0              0              0              0             \n",
       "HIP00707 1              0              0              0             \n",
       "HIP00710 0              0              0              0             \n",
       "HIP00715 0              0              0              0             \n",
       "HIP00728 0              0              0              0             \n",
       "         HLA_DRB1_04_01\n",
       "HIP00110 0             \n",
       "HIP00169 0             \n",
       "HIP00594 0             \n",
       "HIP00602 0             \n",
       "HIP00614 0             \n",
       "HIP00640 1             \n",
       "HIP00707 0             \n",
       "HIP00710 0             \n",
       "HIP00715 0             \n",
       "HIP00728 0             "
      ]
     },
     "metadata": {},
     "output_type": "display_data"
    }
   ],
   "source": [
    "HLAGENE=\"HLA_DRB1\"\n",
    "IFILE <- paste0(\"../../data/genotype/\", HLAGENE, \".matrix\")\n",
    "d1 <- read.table(IFILE, header=T, row.names=1, stringsAsFactors = F)\n",
    "head(d1,n=10)[,1:5]"
   ]
  },
  {
   "cell_type": "code",
   "execution_count": 2,
   "metadata": {},
   "outputs": [
    {
     "data": {
      "text/plain": [
       "\n",
       "  2 \n",
       "630 "
      ]
     },
     "metadata": {},
     "output_type": "display_data"
    }
   ],
   "source": [
    "#sum of rows = 2, because each individual has two alleles of DRB1\n",
    "table(rowSums(d1))"
   ]
  },
  {
   "cell_type": "markdown",
   "metadata": {},
   "source": [
    "## Sample call rate\n",
    "- row call rate samples will be revmoved"
   ]
  },
  {
   "cell_type": "code",
   "execution_count": 3,
   "metadata": {},
   "outputs": [],
   "source": [
    "for( HLAGENE in c(\"HLA_A\", \"HLA_B\", \"HLA_C\", \"HLA_DPA1\",\n",
    "   \"HLA_DPB1\", \"HLA_DQA1\", \"HLA_DQB1\", \"HLA_DRB1\")){\n",
    "    \n",
    "    IFILE <- paste0(\"../../data/genotype/\", HLAGENE, \".matrix\")\n",
    "    OFILE <- paste0(\"../../data/genotype/\", HLAGENE, \".lowcallrate.samples\")\n",
    "    \n",
    "    d1 <- read.table(IFILE, header=T, row.names=1, stringsAsFactors = F)\n",
    "    sum <- rowSums(d1)\n",
    "    remove_samples <- names( sum[sum==0] ) #samples which are no called genotype\n",
    "    \n",
    "    #write.table(remove_samples, OFILE, col.names=F, row.names=F, append=F, quote=F, sep=\"\\t\")\n",
    "}"
   ]
  },
  {
   "cell_type": "code",
   "execution_count": null,
   "metadata": {},
   "outputs": [],
   "source": []
  },
  {
   "cell_type": "markdown",
   "metadata": {},
   "source": [
    "## Allele frequency\n",
    "- low MAF alleles will be removed"
   ]
  },
  {
   "cell_type": "code",
   "execution_count": 4,
   "metadata": {},
   "outputs": [],
   "source": [
    "for( HLAGENE in c(\"HLA_A\", \"HLA_B\", \"HLA_C\", \"HLA_DPA1\",\n",
    "   \"HLA_DPB1\", \"HLA_DQA1\", \"HLA_DQB1\", \"HLA_DRB1\")){\n",
    "    OFILE <- paste0(\"../../data/genotype/\", HLAGENE, \".4digit.freq\")\n",
    "    aamat <- read.table( paste0(\"../../data/genotype/\", HLAGENE, \".matrix\"), \n",
    "                        header=T, row.names=1, stringsAsFactors = F)\n",
    "    freq <- colSums(aamat) / (2 * nrow(aamat))\n",
    "    dump <- data.frame(id=names(freq), freq)\n",
    "    #write.table(dump, OFILE, col.names=T, row.names=F, append=F, quote=F, sep=\"\\t\")\n",
    "}"
   ]
  },
  {
   "cell_type": "code",
   "execution_count": null,
   "metadata": {},
   "outputs": [],
   "source": []
  },
  {
   "cell_type": "markdown",
   "metadata": {},
   "source": [
    "## Low allele frequency amino acid variants\n",
    "- low MAF alleles will be removed"
   ]
  },
  {
   "cell_type": "code",
   "execution_count": 5,
   "metadata": {},
   "outputs": [],
   "source": [
    "#low frequent (<1%)\n",
    "for( HLAGENE in c(\"HLA_A\", \"HLA_B\", \"HLA_C\", \"HLA_DPA1\",\n",
    "   \"HLA_DPB1\", \"HLA_DQA1\", \"HLA_DQB1\", \"HLA_DRB1\")){\n",
    "    \n",
    "    OFILE <- paste0(\"../../data/genotype/\", HLAGENE, \".lowfreq.4digit.genotypes\")\n",
    "    d1 <- read.table(paste0(\"../../data/genotype/\", HLAGENE, \".4digit.freq\"), header=T, stringsAsFactors = F)\n",
    "    remove_genotypes <- subset(d1, freq < 0.01 | freq > 0.99)$id\n",
    "    #write.table(remove_genotypes, OFILE, col.names=F, row.names=F, append=F, quote=F, sep=\"\\t\")\n",
    "}"
   ]
  },
  {
   "cell_type": "code",
   "execution_count": null,
   "metadata": {},
   "outputs": [],
   "source": []
  },
  {
   "cell_type": "code",
   "execution_count": null,
   "metadata": {},
   "outputs": [],
   "source": []
  },
  {
   "cell_type": "markdown",
   "metadata": {},
   "source": [
    "## HWE"
   ]
  },
  {
   "cell_type": "code",
   "execution_count": 6,
   "metadata": {},
   "outputs": [],
   "source": [
    "options(warn=-1)\n",
    "\n",
    "for( HLAGENE in c(\"HLA_A\", \"HLA_B\", \"HLA_C\", \"HLA_DPA1\",\n",
    "   \"HLA_DPB1\", \"HLA_DQA1\", \"HLA_DQB1\", \"HLA_DRB1\")){\n",
    "    \n",
    "    aamat <- read.table( paste0(\"../../data/genotype/\", HLAGENE, \".matrix\"), header=T, row.names=1, stringsAsFactors = F)\n",
    "    if( file.info(paste0(\"../../data/genotype/\", HLAGENE, \".lowfreq.4digit.genotypes\"))$size >0 ){\n",
    "        lowfreq <- read.table(paste0(\"../../data/genotype/\", HLAGENE, \".lowfreq.4digit.genotypes\"), header=F, stringsAsFactors = F)[,1]\n",
    "    }else{\n",
    "        lowfreq <- c()\n",
    "    }\n",
    "    pass <- setdiff(colnames(aamat), lowfreq)\n",
    "    aamat2 <- aamat[,pass]\n",
    "    \n",
    "    OFILE <- paste0(\"../../data/genotype/\", HLAGENE, \".hwe_lowp.4digit.genotypes\")\n",
    "    \n",
    "    hwe_p <- apply(aamat2, 2, function(x){\n",
    "        x <- as.numeric(x)\n",
    "        #observed data\n",
    "        a0 <- length(x[x==0])\n",
    "        a1 <- length(x[x==1])\n",
    "        a2 <- length(x[x==2])\n",
    "         \n",
    "        freq <- sum(x) / (2*length(x))\n",
    "         \n",
    "        #expedted data\n",
    "        P_a0 <- ( 1 - freq )^2 \n",
    "        P_a1 <- 2 * ( 1 - freq )*freq\n",
    "        P_a2 <- freq^2\n",
    "             \n",
    "        chitest <- chisq.test(c(a0, a1, a2), p = c(P_a0, P_a1, P_a2)) #simulate.p.value = TRUE, B = 2000\n",
    "        chitest$p.value\n",
    "    })\n",
    "    \n",
    "    remove_genotypes <- names(hwe_p[hwe_p<=1e-04])\n",
    "    #write.table(remove_genotypes, OFILE, col.names=F, row.names=F, append=F, quote=F, sep=\"\\t\")\n",
    "}"
   ]
  },
  {
   "cell_type": "code",
   "execution_count": null,
   "metadata": {},
   "outputs": [],
   "source": []
  },
  {
   "cell_type": "markdown",
   "metadata": {},
   "source": [
    "## Compare allele frequency with reference data\n",
    "- The discortance could be due to ethnic background differences\n",
    "- T1DGC: EUR, Robin: mixed"
   ]
  },
  {
   "cell_type": "code",
   "execution_count": 7,
   "metadata": {},
   "outputs": [
    {
     "data": {
      "image/png": "[encoded data removed]",
      "text/plain": [
       "plot without title"
      ]
     },
     "metadata": {},
     "output_type": "display_data",
     "source": "R display func"
    }
   ],
   "source": [
    "#T1DGC reference data\n",
    "ref <- read.table(\"../../data/genotype/T1DGC.FRQ.frq\", header=T, stringsAsFactors = F)\n",
    "ref <- ref[,c(\"SNP\",\"MAF\")]\n",
    "ref$SNP <- gsub(\"-\", \"\\\\.\", ref$SNP)\n",
    "\n",
    "#robin data (use all samples)\n",
    "robin <- data.frame()\n",
    "for( HLAGENE in c(\"HLA_A\", \"HLA_B\", \"HLA_C\", \"HLA_DPA1\",\n",
    "   \"HLA_DPB1\", \"HLA_DQA1\", \"HLA_DQB1\", \"HLA_DRB1\", \"HLA_DRB1\")){\n",
    "    \n",
    "    d1 <- read.table(paste0(\"../../data/genotype/\", HLAGENE, \".4digit.freq\"),header=T,stringsAsFactors = F)\n",
    "    \n",
    "    #if( file.info(paste0(\"genotype_qc/\", HLAGENE, \".lowfreq.4digit.genotypes\"))$size >0 ){\n",
    "    #    lowfreq <- read.table(paste0(\"genotype_qc/\", HLAGENE, \".lowfreq.4digit.genotypes\"), header=F, stringsAsFactors = F)[,1]\n",
    "    #}else{\n",
    "        lowfreq <- c()\n",
    "    #}\n",
    "    \n",
    "    #if( file.info(paste0(\"genotype_qc/\", HLAGENE, \".hwe_lowp.4digit.genotypes\"))$size >0 ){\n",
    "    #    hwe <- read.table(paste0(\"genotype_qc/\", HLAGENE, \".hwe_lowp.4digit.genotypes\"), header=F, stringsAsFactors = F)[,1]\n",
    "    #}else{\n",
    "        hwe <- c()\n",
    "    #}\n",
    "    \n",
    "    pass <- setdiff(d1$id, lowfreq)\n",
    "    pass <- setdiff(pass, hwe)\n",
    "    \n",
    "    d1 <- d1[is.element(d1$id, pass), ]\n",
    "    \n",
    "    robin <- rbind(robin, d1)\n",
    "}\n",
    "\n",
    "robin$id <- sapply(strsplit(as.character(robin$id),\"_\"),\n",
    "                   function(x){paste0(x[1],\"_\",x[2],\"_\",x[3],x[4])})\n",
    "\n",
    "#merge\n",
    "M <- merge(ref, robin, by.x=\"SNP\", by.y=\"id\")\n",
    "\n",
    "options(repr.plot.width=4, repr.plot.height=4)\n",
    "plot(log10(M$MAF), log10(M$freq), \n",
    "     xlab=\"log10(T1DGC-AF)\", ylab=\"log10(Robin-AF)\",\n",
    "     xlim=c(-4,1),ylim=c(-4,1),\n",
    "     pch=20, col=\"deepskyblue4\")\n",
    "abline(a=0, b=1, col=\"red\", lty=2)\n"
   ]
  },
  {
   "cell_type": "code",
   "execution_count": null,
   "metadata": {},
   "outputs": [],
   "source": []
  },
  {
   "cell_type": "markdown",
   "metadata": {},
   "source": [
    "## Post qc amino acid genotype matrix"
   ]
  },
  {
   "cell_type": "code",
   "execution_count": 8,
   "metadata": {},
   "outputs": [],
   "source": [
    "#maf 1%\n",
    "for( HLAGENE in c(\"HLA_A\", \"HLA_B\", \"HLA_C\", \"HLA_DPA1\",\n",
    "   \"HLA_DPB1\", \"HLA_DQA1\", \"HLA_DQB1\", \"HLA_DRB1\")){\n",
    "    \n",
    "    OFILE <- paste0(\"../../data/genotype/\", HLAGENE, \".4digit.postqc.matrix\")\n",
    "    \n",
    "    #genotype\n",
    "    aamat <- read.table( paste0(\"../../data/genotype/\", HLAGENE, \".matrix\"), \n",
    "                        header=T, row.names=1, stringsAsFactors = F)\n",
    "    \n",
    "    #remove low freq. hwe low p markers\n",
    "    if( file.info(paste0(\"../../data/genotype/\", HLAGENE, \".lowfreq.4digit.genotypes\"))$size >0 ){\n",
    "        lowfreq <- read.table(paste0(\"../../data/genotype/\", HLAGENE, \".lowfreq.4digit.genotypes\"), \n",
    "                              header=F, stringsAsFactors = F)[,1]\n",
    "    }else{\n",
    "        lowfreq <- c()\n",
    "    }\n",
    "    \n",
    "    if( file.info(paste0(\"../../data/genotype/\", HLAGENE, \".hwe_lowp.4digit.genotypes\"))$size >0 ){\n",
    "        hwe <- read.table(paste0(\"../../data/genotype/\", HLAGENE, \".hwe_lowp.4digit.genotypes\"), \n",
    "                          header=F, stringsAsFactors = F)[,1]\n",
    "            #there was minor error here. failed to remove hwe low p snps\n",
    "    }else{\n",
    "        hwe <- c()\n",
    "    }\n",
    "    \n",
    "    pass <- setdiff(colnames(aamat), lowfreq)\n",
    "    pass <- setdiff(pass, hwe)\n",
    "    \n",
    "    aamat <- aamat[, is.element(colnames(aamat), pass)]\n",
    "    \n",
    "    dump <- data.frame(id=row.names(aamat), aamat)\n",
    "    #write.table(dump, OFILE, col.names=T, row.names=F, append=F, quote=F, sep=\"\\t\")\n",
    "}\n"
   ]
  },
  {
   "cell_type": "markdown",
   "metadata": {},
   "source": [
    "## PCA in all genotypes"
   ]
  },
  {
   "cell_type": "code",
   "execution_count": 9,
   "metadata": {},
   "outputs": [
    {
     "data": {
      "text/html": [
       "628"
      ],
      "text/latex": [
       "628"
      ],
      "text/markdown": [
       "628"
      ],
      "text/plain": [
       "[1] 628"
      ]
     },
     "metadata": {},
     "output_type": "display_data"
    },
    {
     "data": {
      "text/html": [
       "16"
      ],
      "text/latex": [
       "16"
      ],
      "text/markdown": [
       "16"
      ],
      "text/plain": [
       "[1] 16"
      ]
     },
     "metadata": {},
     "output_type": "display_data"
    },
    {
     "name": "stdout",
     "output_type": "stream",
     "text": [
      "[1] 35\n",
      "[1] 51\n",
      "[1] 64\n",
      "[1] 84\n"
     ]
    },
    {
     "data": {
      "text/html": [
       "84"
      ],
      "text/latex": [
       "84"
      ],
      "text/markdown": [
       "84"
      ],
      "text/plain": [
       "[1] 84"
      ]
     },
     "metadata": {},
     "output_type": "display_data"
    },
    {
     "data": {
      "text/html": [
       "<ol class=list-inline>\n",
       "\t<li>628</li>\n",
       "\t<li>71</li>\n",
       "</ol>\n"
      ],
      "text/latex": [
       "\\begin{enumerate*}\n",
       "\\item 628\n",
       "\\item 71\n",
       "\\end{enumerate*}\n"
      ],
      "text/markdown": [
       "1. 628\n",
       "2. 71\n",
       "\n",
       "\n"
      ],
      "text/plain": [
       "[1] 628  71"
      ]
     },
     "metadata": {},
     "output_type": "display_data"
    }
   ],
   "source": [
    "OFILE <- paste0(\"../../data/genotype/HLA_A_B_C_DQB1_DRB1_4digit.pca\")\n",
    "\n",
    "#use HLA-A,B,C, DQB1 and DRB1 because they are genotypes 630 or 631 samples\n",
    "all_samples <- c()\n",
    "for( HLAGENE in c(\"HLA_A\", \"HLA_B\", \"HLA_C\",\"HLA_DQB1\", \"HLA_DRB1\")){\n",
    "    #post qc amino acid genotype\n",
    "    aamat <- read.table( paste0(\"../../data/genotype/\", HLAGENE, \".4digit.postqc.matrix\"), \n",
    "                        header=T, row.names=1, stringsAsFactors = F)\n",
    "    all_samples <- c(all_samples, row.names(aamat))\n",
    "}\n",
    "count <- table(all_samples)\n",
    "\n",
    "common_samples <- names(count[count==5])\n",
    "length(common_samples) #samples used for this analysis\n",
    "\n",
    "#merge all data\n",
    "HLAGENE=\"HLA_A\"\n",
    "aamat <- read.table( paste0(\"../../data/genotype/\", HLAGENE, \".4digit.postqc.matrix\"), \n",
    "                    header=T, row.names=1, stringsAsFactors = F)\n",
    "aamat <- aamat[common_samples, ]\n",
    "allmat <- aamat\n",
    "ncol(allmat)\n",
    "\n",
    "for( HLAGENE in c(\"HLA_B\", \"HLA_C\",\"HLA_DQB1\", \"HLA_DRB1\")){\n",
    "    #post qc amino acid genotype\n",
    "    aamat <- read.table( paste0(\"../../data/genotype/\", HLAGENE, \".4digit.postqc.matrix\"), \n",
    "                        header=T, row.names=1, stringsAsFactors = F)\n",
    "    aamat <- aamat[common_samples, ]\n",
    "    allmat <- cbind(allmat, aamat)\n",
    "    show(ncol(allmat))\n",
    "}\n",
    "ncol(allmat)\n",
    "\n",
    "aamat <- allmat\n",
    "\n",
    "#LD pruning (rsq > 0.5)\n",
    "cov <- cor(aamat)\n",
    "\n",
    "remove <- c()\n",
    "for( i in 1:ncol(aamat) ){    \n",
    "    if( is.element(i, remove) ){ next } else {\n",
    "        rsq <- cov[,i]^2\n",
    "        ldmarker <- ( 1:ncol(aamat) )[ rsq > 0.5 ]\n",
    "        ldmarker <- setdiff(ldmarker, i) #keep self\n",
    "        remove <- c(remove, ldmarker)\n",
    "    }\n",
    "}\n",
    "remove <- unique(remove)\n",
    "keep <- setdiff(1:ncol(aamat), remove)\n",
    "\n",
    "aamat <- aamat[, keep]\n",
    "dim(aamat)\n",
    "    \n",
    "#PCA\n",
    "pca <- prcomp(aamat, scale = TRUE)\n",
    "\n",
    "#pca plot\n",
    "out <- pca$x\n",
    "dump <- data.frame(id=row.names(out), out)\n",
    "write.table(dump, OFILE, col.names=T, row.names=F, append=F, quote=F, sep=\"\\t\")"
   ]
  },
  {
   "cell_type": "code",
   "execution_count": 10,
   "metadata": {},
   "outputs": [
    {
     "data": {
      "text/plain": [
       "Importance of components:\n",
       "                          PC1     PC2     PC3     PC4     PC5     PC6     PC7\n",
       "Standard deviation     1.6935 1.62378 1.59242 1.58174 1.50130 1.47246 1.43707\n",
       "Proportion of Variance 0.0404 0.03714 0.03572 0.03524 0.03174 0.03054 0.02909\n",
       "Cumulative Proportion  0.0404 0.07753 0.11325 0.14848 0.18023 0.21077 0.23985\n",
       "                           PC8     PC9    PC10    PC11    PC12    PC13    PC14\n",
       "Standard deviation     1.41044 1.39552 1.35725 1.32006 1.28739 1.25814 1.24218\n",
       "Proportion of Variance 0.02802 0.02743 0.02595 0.02454 0.02334 0.02229 0.02173\n",
       "Cumulative Proportion  0.26787 0.29530 0.32125 0.34579 0.36913 0.39143 0.41316\n",
       "                         PC15    PC16    PC17   PC18    PC19    PC20    PC21\n",
       "Standard deviation     1.2241 1.20403 1.18609 1.1825 1.16522 1.15183 1.13073\n",
       "Proportion of Variance 0.0211 0.02042 0.01981 0.0197 0.01912 0.01869 0.01801\n",
       "Cumulative Proportion  0.4343 0.45468 0.47450 0.4942 0.51331 0.53200 0.55001\n",
       "                          PC22    PC23    PC24    PC25    PC26    PC27    PC28\n",
       "Standard deviation     1.10717 1.09342 1.08610 1.07605 1.07386 1.04869 1.04668\n",
       "Proportion of Variance 0.01727 0.01684 0.01661 0.01631 0.01624 0.01549 0.01543\n",
       "Cumulative Proportion  0.56727 0.58411 0.60073 0.61703 0.63328 0.64877 0.66420\n",
       "                          PC29    PC30    PC31   PC32    PC33    PC34    PC35\n",
       "Standard deviation     1.03818 1.02049 1.01344 0.9863 0.98329 0.95650 0.95176\n",
       "Proportion of Variance 0.01518 0.01467 0.01447 0.0137 0.01362 0.01289 0.01276\n",
       "Cumulative Proportion  0.67938 0.69404 0.70851 0.7222 0.73583 0.74871 0.76147\n",
       "                         PC36    PC37   PC38    PC39    PC40    PC41    PC42\n",
       "Standard deviation     0.9385 0.92400 0.9191 0.91495 0.90270 0.88200 0.86445\n",
       "Proportion of Variance 0.0124 0.01203 0.0119 0.01179 0.01148 0.01096 0.01052\n",
       "Cumulative Proportion  0.7739 0.78590 0.7978 0.80959 0.82107 0.83203 0.84255\n",
       "                          PC43    PC44    PC45    PC46    PC47    PC48    PC49\n",
       "Standard deviation     0.85637 0.84152 0.82950 0.81935 0.79309 0.77496 0.76790\n",
       "Proportion of Variance 0.01033 0.00997 0.00969 0.00946 0.00886 0.00846 0.00831\n",
       "Cumulative Proportion  0.85288 0.86285 0.87254 0.88200 0.89086 0.89932 0.90762\n",
       "                          PC50    PC51    PC52    PC53    PC54    PC55   PC56\n",
       "Standard deviation     0.75004 0.72893 0.71784 0.69010 0.67269 0.66087 0.6583\n",
       "Proportion of Variance 0.00792 0.00748 0.00726 0.00671 0.00637 0.00615 0.0061\n",
       "Cumulative Proportion  0.91555 0.92303 0.93029 0.93700 0.94337 0.94952 0.9556\n",
       "                          PC57    PC58    PC59    PC60    PC61    PC62    PC63\n",
       "Standard deviation     0.61465 0.59842 0.58275 0.55957 0.52053 0.51046 0.48336\n",
       "Proportion of Variance 0.00532 0.00504 0.00478 0.00441 0.00382 0.00367 0.00329\n",
       "Cumulative Proportion  0.96095 0.96599 0.97077 0.97518 0.97900 0.98267 0.98596\n",
       "                          PC64    PC65    PC66    PC67    PC68   PC69    PC70\n",
       "Standard deviation     0.47786 0.44885 0.41817 0.35542 0.31224 0.2789 0.22956\n",
       "Proportion of Variance 0.00322 0.00284 0.00246 0.00178 0.00137 0.0011 0.00074\n",
       "Cumulative Proportion  0.98917 0.99201 0.99448 0.99625 0.99763 0.9987 0.99947\n",
       "                          PC71\n",
       "Standard deviation     0.19483\n",
       "Proportion of Variance 0.00053\n",
       "Cumulative Proportion  1.00000"
      ]
     },
     "metadata": {},
     "output_type": "display_data"
    }
   ],
   "source": [
    "#summary of pca\n",
    "summary(pca)"
   ]
  },
  {
   "cell_type": "code",
   "execution_count": null,
   "metadata": {},
   "outputs": [],
   "source": []
  }
 ],
 "metadata": {
  "kernelspec": {
   "display_name": "R",
   "language": "R",
   "name": "ir"
  },
  "language_info": {
   "codemirror_mode": "r",
   "file_extension": ".r",
   "mimetype": "text/x-r-source",
   "name": "R",
   "pygments_lexer": "r",
   "version": "3.5.1"
  },
  "toc-autonumbering": true
 },
 "nbformat": 4,
 "nbformat_minor": 4
}
